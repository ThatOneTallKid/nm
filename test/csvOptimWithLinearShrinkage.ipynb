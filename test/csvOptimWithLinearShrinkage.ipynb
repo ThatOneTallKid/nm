{
 "cells": [
  {
   "cell_type": "code",
   "execution_count": null,
   "metadata": {},
   "outputs": [],
   "source": [
    "%use s2, algoquant\n",
    "val linearShrinkageMeanEstimatorParam = 0.5\n",
    "val linearShrinkageCovEstimatorParam = 0.5\n",
    "val riskAverse = 1.0\n",
    "val csvdata = CsvCacheProvider(\"sample_assets.csv\", Currencies.USD)\n",
    "val simInterval = csvdata.dataInterval()\n",
    "val rebPer = Period.parse(\"P1M\")\n",
    "val timeWin = Period.parse(\"P6M\")\n",
    "val sim = OptimizationAlgorithmComparisonSimulation(\n",
    "    csvdata.allProducts(simInterval),\n",
    "    csvdata,\n",
    "    csvdata,\n",
    "    rebPer,\n",
    "    timeWin\n",
    ")\n",
    "// long only constraints\n",
    "val stocksCache = BufferCache<List<String>>()\n",
    "val stockTics = mutableListOf<String>()\n",
    "csvdata.allProducts(csvdata.dataInterval()).forEach { p ->\n",
    "    stockTics.add(p.symbol())\n",
    "}\n",
    "stocksCache.add(csvdata.dataInterval().start(),stockTics)\n",
    "val constraint = MarkowitzLongOnlyConstraint().addLongOnlyPositionLimit(stocksCache)\n",
    "// optimizer\n",
    "val optimAlgo = MarkowitzDynamicConstraintOptimizationAlgorithm(riskAverse, constraint)\n",
    "// estimators\n",
    "optimAlgo.meanEstimator = MeanAnnualizingWrapper(LinearShrinkageMeanEstimator(linearShrinkageMeanEstimatorParam), rebPer)\n",
    "optimAlgo.covarianceEstimator = CovarianceAnnualizingWrapper(LinearShrinkageCovarianceEstimator(linearShrinkageCovEstimatorParam), rebPer)\n",
    "// run simulation\n",
    "sim.addAlgorithm(\"simulation\", optimAlgo)\n",
    "sim.setRiskFreeRateLookup(DbRiskFreeRateLookup().newRiskFreeRateLookup(simInterval))\n",
    "sim.setBenchmarkLookupFactory(\"SP500\", BenchmarkLookupFactory())\n",
    "\n",
    "val result = sim.run(simInterval)\n",
    "println(\"success\")"
   ]
  },
  {
   "cell_type": "code",
   "execution_count": null,
   "metadata": {},
   "outputs": [],
   "source": []
  }
 ],
 "metadata": {
  "kernelspec": {
   "display_name": "Kotlin",
   "language": "kotlin",
   "name": "kotlin"
  },
  "language_info": {
   "codemirror_mode": "text/x-kotlin",
   "file_extension": ".kt",
   "mimetype": "text/x-kotlin",
   "name": "kotlin",
   "nbconvert_exporter": "",
   "pygments_lexer": "kotlin",
   "version": "1.5.30-dev-598"
  }
 },
 "nbformat": 4,
 "nbformat_minor": 4
}
