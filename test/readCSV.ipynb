{
 "cells": [
  {
   "cell_type": "code",
   "execution_count": 6,
   "metadata": {},
   "outputs": [
    {
     "name": "stdout",
     "output_type": "stream",
     "text": [
      "Record No - 1\n",
      "---------------\n",
      "Name : John\n",
      "SecondName : Doe\n",
      "addresses : 120 jefferson st.\n",
      "---------------\n",
      "Record No - 2\n",
      "---------------\n",
      "Name : Jack\n",
      "SecondName : McGinnis\n",
      "addresses : 220 hobo Av.\n",
      "---------------\n",
      "Record No - 3\n",
      "---------------\n",
      "Name : John \"Da Man\"\n",
      "SecondName : Repici\n",
      "addresses : 120 Jefferson St.\n",
      "---------------\n",
      "Record No - 4\n",
      "---------------\n",
      "Name : Stephen\n",
      "SecondName : Tyler\n",
      "addresses : 7452 Terrace \"At the Plaza\" road\n",
      "---------------\n",
      "Record No - 5\n",
      "---------------\n",
      "Name : \n",
      "SecondName : Blankman\n",
      "addresses : \n",
      "---------------\n",
      "Record No - 6\n",
      "---------------\n",
      "Name : Joan \"the bone\", Anne\n",
      "SecondName : Jet\n",
      "addresses : 9th, at Terrace plc\n",
      "---------------\n"
     ]
    }
   ],
   "source": [
    "@file:DependsOn(\"org.apache.commons:commons-csv:1.8\")\n",
    "import org.apache.commons.csv.CSVFormat\n",
    "import org.apache.commons.csv.CSVParser\n",
    "import java.nio.file.Paths\n",
    "import java.nio.file.Files\n",
    "\n",
    "val CSV_File_Path = \"addresses.csv\"\n",
    "    // read the file\n",
    "    val reader = Files.newBufferedReader(Paths.get(CSV_File_Path))\n",
    "    // parse the file into csv values\n",
    "    val csvParser = CSVParser(reader, CSVFormat.DEFAULT)\n",
    "    for (csvRecord in csvParser) {\n",
    "        // Accessing Values by Column Index\n",
    "        val name = csvRecord.get(0)\n",
    "        val product = csvRecord.get(1)\n",
    "        val description = csvRecord.get(2)\n",
    "        // print the value to console\n",
    "        System.out.println(\"Record No - \" + csvRecord.getRecordNumber())\n",
    "        println(\"---------------\")\n",
    "        println(\"Name : $name\")\n",
    "        println(\"SecondName : $product\")\n",
    "        println(\"addresses : $description\")\n",
    "        println(\"---------------\")\n",
    "\n",
    "\n",
    "                }"
   ]
  },
  {
   "cell_type": "code",
   "execution_count": null,
   "metadata": {},
   "outputs": [],
   "source": []
  }
 ],
 "metadata": {
  "kernelspec": {
   "display_name": "Kotlin",
   "language": "kotlin",
   "name": "kotlin"
  },
  "language_info": {
   "codemirror_mode": "text/x-kotlin",
   "file_extension": ".kt",
   "mimetype": "text/x-kotlin",
   "name": "kotlin",
   "pygments_lexer": "kotlin",
   "version": "1.4.20-dev-3647"
  }
 },
 "nbformat": 4,
 "nbformat_minor": 4
}
